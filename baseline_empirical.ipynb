{
 "cells": [
  {
   "cell_type": "code",
   "execution_count": 3,
   "id": "228041a3",
   "metadata": {},
   "outputs": [],
   "source": [
    "from pathlib import Path\n",
    "import time\n",
    "from alignment import align"
   ]
  },
  {
   "cell_type": "code",
   "execution_count": 4,
   "id": "c2c59441",
   "metadata": {},
   "outputs": [
    {
     "name": "stdout",
     "output_type": "stream",
     "text": [
      "500\n",
      "1000\n",
      "1500\n",
      "2000\n",
      "2500\n",
      "3000\n",
      "{500: 0.671166181564331, 1000: 2.6185591220855713, 1500: 6.480536222457886, 2000: 11.020900964736938, 2500: 17.72100043296814, 3000: 26.05273127555847}\n"
     ]
    }
   ],
   "source": [
    "def read_sequence(file: Path) -> str:\n",
    "    return ''.join(file.read_text().splitlines())\n",
    "\n",
    "align_times = {}\n",
    "for N in [500, 1000, 1500, 2000, 2500, 3000]:\n",
    "    seq1 = read_sequence(Path('test_files/bovine_coronavirus.txt'))[:N]\n",
    "    seq2 = read_sequence(Path('test_files/murine_hepatitus.txt'))[:N]\n",
    "    start = time.time()\n",
    "    score, aseq1, aseq2 = align(seq1, seq2)\n",
    "    end = time.time()\n",
    "    align_times[N] = end - start\n",
    "    print(N)\n",
    "print(align_times)"
   ]
  }
 ],
 "metadata": {
  "kernelspec": {
   "display_name": "Python 3",
   "language": "python",
   "name": "python3"
  },
  "language_info": {
   "codemirror_mode": {
    "name": "ipython",
    "version": 3
   },
   "file_extension": ".py",
   "mimetype": "text/x-python",
   "name": "python",
   "nbconvert_exporter": "python",
   "pygments_lexer": "ipython3",
   "version": "3.13.7"
  }
 },
 "nbformat": 4,
 "nbformat_minor": 5
}
