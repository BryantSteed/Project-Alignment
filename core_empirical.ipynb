{
 "cells": [
  {
   "cell_type": "code",
   "execution_count": 3,
   "id": "14380f70",
   "metadata": {},
   "outputs": [],
   "source": [
    "from pathlib import Path\n",
    "import time\n",
    "from alignment import align"
   ]
  },
  {
   "cell_type": "code",
   "execution_count": 4,
   "id": "65e28ecd",
   "metadata": {},
   "outputs": [
    {
     "name": "stdout",
     "output_type": "stream",
     "text": [
      "100\n",
      "1000\n",
      "5000\n",
      "10000\n",
      "15000\n",
      "20000\n",
      "25000\n",
      "30000\n",
      "{100: 0.0258638858795166, 1000: 0.23101568222045898, 5000: 1.2580225467681885, 10000: 2.835970878601074, 15000: 4.444363117218018, 20000: 5.955561876296997, 25000: 7.33968710899353, 30000: 8.979641437530518}\n"
     ]
    }
   ],
   "source": [
    "k = 50\n",
    "\n",
    "def read_sequence(file: Path) -> str:\n",
    "    return ''.join(file.read_text().splitlines())\n",
    "\n",
    "align_times = {}\n",
    "for N in [100, 1000, 5000, 10000, 15000, 20000, 25000, 30000]:\n",
    "    seq1 = read_sequence(Path('test_files/bovine_coronavirus.txt'))[:N]\n",
    "    seq2 = read_sequence(Path('test_files/murine_hepatitus.txt'))[:N]\n",
    "    start = time.time()\n",
    "    score, aseq1, aseq2 = align(seq1, seq2, banded_width=k)\n",
    "    end = time.time()\n",
    "    align_times[N] = end - start\n",
    "    print(N)\n",
    "print(align_times)"
   ]
  }
 ],
 "metadata": {
  "kernelspec": {
   "display_name": "Python 3",
   "language": "python",
   "name": "python3"
  },
  "language_info": {
   "codemirror_mode": {
    "name": "ipython",
    "version": 3
   },
   "file_extension": ".py",
   "mimetype": "text/x-python",
   "name": "python",
   "nbconvert_exporter": "python",
   "pygments_lexer": "ipython3",
   "version": "3.13.7"
  }
 },
 "nbformat": 4,
 "nbformat_minor": 5
}
